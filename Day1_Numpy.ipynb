{
 "cells": [
  {
   "cell_type": "markdown",
   "id": "355f81d5-0773-4d04-987e-96b1eaec9013",
   "metadata": {},
   "source": [
    "<b>Numpy Tutorials</b><br>\n",
    "NumPy is a general-purpose array-processing package. It provides a high-performance multidimensional array object,\n",
    "and tools for working with these arrays. It is the fundamental package for scientific computing with Python."
   ]
  },
  {
   "cell_type": "markdown",
   "id": "3c6e1dd7-0bf3-48e0-83c0-26bf71932a83",
   "metadata": {},
   "source": [
    "An array is a data structure that stores values of same data type. In Python, this is the main difference between arrays and lists.\n",
    "While python lists can contain values corresponding to different data types, arrays in python can only contain values corresponding to same data type.<br>\n",
    "It's used for fasr process.  use less memory to store data. convenient<br>\n",
    "\n"
   ]
  },
  {
   "cell_type": "code",
   "execution_count": 1,
   "id": "52bba2a7-11c0-46cb-8d90-daf053f67da7",
   "metadata": {},
   "outputs": [],
   "source": [
    "## initially Lets import numpy\n",
    "\n",
    "\n",
    "import numpy as np"
   ]
  },
  {
   "cell_type": "code",
   "execution_count": 2,
   "id": "d1c6083d-9cac-4a22-9a80-80ebc5cdb91c",
   "metadata": {},
   "outputs": [
    {
     "name": "stdout",
     "output_type": "stream",
     "text": [
      "[1 2 3 4]\n"
     ]
    }
   ],
   "source": [
    "one_d_array = np.array([1,2,3,4]) # create 1D array\n",
    "print(one_d_array) # printing 1d array"
   ]
  },
  {
   "cell_type": "code",
   "execution_count": 3,
   "id": "326d21e5-8bc8-49ef-b535-bacac0a478bc",
   "metadata": {},
   "outputs": [
    {
     "name": "stdout",
     "output_type": "stream",
     "text": [
      "[[1 2 3]\n",
      " [4 5 6]\n",
      " [7 8 9]]\n"
     ]
    }
   ],
   "source": [
    "two_d_array = np.array([[1, 2, 3], [4, 5, 6], [7, 8, 9]]) # create 1D array\n",
    "print(two_d_array) #printing 2D array"
   ]
  },
  {
   "cell_type": "code",
   "execution_count": 4,
   "id": "0646d1cb-21d3-4f21-a43f-0ed12e8cb27d",
   "metadata": {},
   "outputs": [
    {
     "data": {
      "text/plain": [
       "numpy.ndarray"
      ]
     },
     "execution_count": 4,
     "metadata": {},
     "output_type": "execute_result"
    }
   ],
   "source": [
    "type(one_d_array)"
   ]
  },
  {
   "cell_type": "code",
   "execution_count": 5,
   "id": "95ac7daa-b110-4c88-8ed7-a1b63cc1536f",
   "metadata": {},
   "outputs": [
    {
     "data": {
      "text/plain": [
       "(3, 3)"
      ]
     },
     "execution_count": 5,
     "metadata": {},
     "output_type": "execute_result"
    }
   ],
   "source": [
    "two_d_array.shape# (row,columns)"
   ]
  },
  {
   "cell_type": "code",
   "execution_count": 6,
   "id": "6ae58701-eb98-454b-b12c-d4c54f2e3563",
   "metadata": {},
   "outputs": [
    {
     "data": {
      "text/plain": [
       "9"
      ]
     },
     "execution_count": 6,
     "metadata": {},
     "output_type": "execute_result"
    }
   ],
   "source": [
    "two_d_array.size"
   ]
  },
  {
   "cell_type": "code",
   "execution_count": 7,
   "id": "792cc5b2-9429-43c0-a4f7-80301993404e",
   "metadata": {},
   "outputs": [
    {
     "data": {
      "text/plain": [
       "2"
      ]
     },
     "execution_count": 7,
     "metadata": {},
     "output_type": "execute_result"
    }
   ],
   "source": [
    "two_d_array.ndim"
   ]
  },
  {
   "cell_type": "code",
   "execution_count": 8,
   "id": "705e17bf-8844-4206-be9b-01735f475ae5",
   "metadata": {},
   "outputs": [
    {
     "data": {
      "text/plain": [
       "dtype('int32')"
      ]
     },
     "execution_count": 8,
     "metadata": {},
     "output_type": "execute_result"
    }
   ],
   "source": [
    "one_d_array.dtype"
   ]
  },
  {
   "cell_type": "code",
   "execution_count": 9,
   "id": "bac7b7c6-2c78-4908-9dee-2e9c81391d98",
   "metadata": {},
   "outputs": [
    {
     "data": {
      "text/plain": [
       "array([[1, 1, 1],\n",
       "       [1, 1, 1],\n",
       "       [1, 1, 1]])"
      ]
     },
     "execution_count": 9,
     "metadata": {},
     "output_type": "execute_result"
    }
   ],
   "source": [
    "np.ones((3,3), dtype = int)#same for zeros, also change the data type."
   ]
  },
  {
   "cell_type": "code",
   "execution_count": 15,
   "id": "ec1c1a5a-4455-4963-bad6-b6f5869756d6",
   "metadata": {},
   "outputs": [
    {
     "data": {
      "text/plain": [
       "array([ 1,  3,  5,  7,  9, 11])"
      ]
     },
     "execution_count": 15,
     "metadata": {},
     "output_type": "execute_result"
    }
   ],
   "source": [
    "arr = np.arange(1,13,2) #also enter the steps.\n",
    "#np.arrange(click shift+ enter ) for get details.\n",
    "arr"
   ]
  },
  {
   "cell_type": "code",
   "execution_count": 11,
   "id": "7b61679d-009c-42bc-8ebc-42a60526a15e",
   "metadata": {},
   "outputs": [
    {
     "data": {
      "text/plain": [
       "array([1.        , 2.33333333, 3.66666667, 5.        ])"
      ]
     },
     "execution_count": 11,
     "metadata": {},
     "output_type": "execute_result"
    }
   ],
   "source": [
    "#linspace() function - Return evenly spaced numbers over a specified interval.\n",
    "np.linspace(1,5,4)"
   ]
  },
  {
   "cell_type": "code",
   "execution_count": 12,
   "id": "2451d861-2464-49dc-92a8-0e958d523fbd",
   "metadata": {},
   "outputs": [
    {
     "name": "stdout",
     "output_type": "stream",
     "text": [
      "[[ 1  2  3  4]\n",
      " [ 5  6  7  8]\n",
      " [ 9 10 11 12]]\n"
     ]
    }
   ],
   "source": [
    "arr_reshape = np.reshape(arr, (3,4)) #reshape by the name of arra and the size.\n",
    "print(arr_reshape)"
   ]
  },
  {
   "cell_type": "code",
   "execution_count": 17,
   "id": "e8b8a5ea-63f1-4abb-9739-68a85fb7a281",
   "metadata": {},
   "outputs": [
    {
     "data": {
      "text/plain": [
       "array([[ 1,  2,  3,  4,  5,  6],\n",
       "       [ 7,  8,  9, 10, 11, 12]])"
      ]
     },
     "execution_count": 17,
     "metadata": {},
     "output_type": "execute_result"
    }
   ],
   "source": [
    "#make 2d array\n",
    "arr = np.arange(1,13).reshape(2,6)\n",
    "arr"
   ]
  },
  {
   "cell_type": "code",
   "execution_count": 19,
   "id": "2fb59afb-d473-41cb-905e-03db03cce7ae",
   "metadata": {},
   "outputs": [
    {
     "data": {
      "text/plain": [
       "array([ 1,  2,  3,  4,  5,  6,  7,  8,  9, 10, 11, 12])"
      ]
     },
     "execution_count": 19,
     "metadata": {},
     "output_type": "execute_result"
    }
   ],
   "source": [
    "arr.ravel() #convert 2d array into one d"
   ]
  },
  {
   "cell_type": "code",
   "execution_count": 24,
   "id": "583f9f58-0a26-4ed8-b84e-c81184632307",
   "metadata": {},
   "outputs": [
    {
     "name": "stdout",
     "output_type": "stream",
     "text": [
      "[[1 2 3]\n",
      " [4 5 6]\n",
      " [7 8 9]]\n",
      "[[1 2 3]\n",
      " [4 5 6]\n",
      " [7 8 9]]\n"
     ]
    }
   ],
   "source": [
    "arr1 = np.arange(1,10).reshape(3,3)\n",
    "arr2 = np.arange(1,10).reshape(3,3)\n",
    "print(arr1)\n",
    "print(arr2)"
   ]
  },
  {
   "cell_type": "code",
   "execution_count": 25,
   "id": "7394075c-feb3-43a9-8429-55aeec19fc63",
   "metadata": {},
   "outputs": [
    {
     "data": {
      "text/plain": [
       "array([[ 2,  4,  6],\n",
       "       [ 8, 10, 12],\n",
       "       [14, 16, 18]])"
      ]
     },
     "execution_count": 25,
     "metadata": {},
     "output_type": "execute_result"
    }
   ],
   "source": [
    "a = arr1 + arr2 \n",
    "#np.add(arr1,arr2)\n",
    "#same for subtract, divide, multiply.\n",
    "a"
   ]
  },
  {
   "cell_type": "code",
   "execution_count": 26,
   "id": "540aaa21-2145-491b-acf5-f3a8f2ba6994",
   "metadata": {},
   "outputs": [
    {
     "data": {
      "text/plain": [
       "array([[ 30,  36,  42],\n",
       "       [ 66,  81,  96],\n",
       "       [102, 126, 150]])"
      ]
     },
     "execution_count": 26,
     "metadata": {},
     "output_type": "execute_result"
    }
   ],
   "source": [
    "arr1.dot(arr2)#dot product"
   ]
  },
  {
   "cell_type": "code",
   "execution_count": 31,
   "id": "243ddd69-9e1f-413e-b1e9-f91e831085d7",
   "metadata": {},
   "outputs": [
    {
     "data": {
      "text/plain": [
       "array([3, 6, 9])"
      ]
     },
     "execution_count": 31,
     "metadata": {},
     "output_type": "execute_result"
    }
   ],
   "source": [
    "arr1.max()#return maximum value same for min.\n",
    "arr1.argmax()#Retuen index of maximum value.\n",
    "arr1.max(axis = 1)"
   ]
  },
  {
   "cell_type": "code",
   "execution_count": 32,
   "id": "850db215-74b6-4548-8573-e2a4f0e35ff3",
   "metadata": {},
   "outputs": [
    {
     "data": {
      "text/plain": [
       "45"
      ]
     },
     "execution_count": 32,
     "metadata": {},
     "output_type": "execute_result"
    }
   ],
   "source": [
    "np.sum(arr1)#sum of all he value of the ar"
   ]
  },
  {
   "cell_type": "code",
   "execution_count": 33,
   "id": "886b2574-e7d8-4f98-900a-8ad4aa2332b9",
   "metadata": {},
   "outputs": [
    {
     "data": {
      "text/plain": [
       "5.0"
      ]
     },
     "execution_count": 33,
     "metadata": {},
     "output_type": "execute_result"
    }
   ],
   "source": [
    "np.mean(arr1)"
   ]
  },
  {
   "cell_type": "code",
   "execution_count": 35,
   "id": "35d32be1-1cf3-4bba-b36f-3f6d8a13e8c2",
   "metadata": {},
   "outputs": [
    {
     "data": {
      "text/plain": [
       "2.581988897471611"
      ]
     },
     "execution_count": 35,
     "metadata": {},
     "output_type": "execute_result"
    }
   ],
   "source": [
    "np.sqrt(arr1)\n",
    "np.std(arr1)#find standard deviation"
   ]
  },
  {
   "cell_type": "code",
   "execution_count": 36,
   "id": "47455c3c-9df3-481d-942e-6e7c55d5eaa2",
   "metadata": {},
   "outputs": [
    {
     "data": {
      "text/plain": [
       "array([[0.        , 0.69314718, 1.09861229],\n",
       "       [1.38629436, 1.60943791, 1.79175947],\n",
       "       [1.94591015, 2.07944154, 2.19722458]])"
      ]
     },
     "execution_count": 36,
     "metadata": {},
     "output_type": "execute_result"
    }
   ],
   "source": [
    "np.log(arr1)"
   ]
  },
  {
   "cell_type": "code",
   "execution_count": 38,
   "id": "ef7f134e-5833-4116-b639-2c131319f7bb",
   "metadata": {},
   "outputs": [
    {
     "data": {
      "text/plain": [
       "array([[  1,   2,   3,   4,   5,   6,   7,   8,   9,  10],\n",
       "       [ 11,  12,  13,  14,  15,  16,  17,  18,  19,  20],\n",
       "       [ 21,  22,  23,  24,  25,  26,  27,  28,  29,  30],\n",
       "       [ 31,  32,  33,  34,  35,  36,  37,  38,  39,  40],\n",
       "       [ 41,  42,  43,  44,  45,  46,  47,  48,  49,  50],\n",
       "       [ 51,  52,  53,  54,  55,  56,  57,  58,  59,  60],\n",
       "       [ 61,  62,  63,  64,  65,  66,  67,  68,  69,  70],\n",
       "       [ 71,  72,  73,  74,  75,  76,  77,  78,  79,  80],\n",
       "       [ 81,  82,  83,  84,  85,  86,  87,  88,  89,  90],\n",
       "       [ 91,  92,  93,  94,  95,  96,  97,  98,  99, 100]])"
      ]
     },
     "execution_count": 38,
     "metadata": {},
     "output_type": "execute_result"
    }
   ],
   "source": [
    "mp  = np.arange(1,101).reshape(10,10)\n",
    "mp"
   ]
  },
  {
   "cell_type": "code",
   "execution_count": 39,
   "id": "658f60c1-178d-4fc3-9007-0b0b9469cb99",
   "metadata": {},
   "outputs": [
    {
     "data": {
      "text/plain": [
       "24"
      ]
     },
     "execution_count": 39,
     "metadata": {},
     "output_type": "execute_result"
    }
   ],
   "source": [
    "mp[2,3]"
   ]
  },
  {
   "cell_type": "code",
   "execution_count": 40,
   "id": "5ec6e32f-c6ea-4c3e-93be-71f0517eb203",
   "metadata": {},
   "outputs": [
    {
     "data": {
      "text/plain": [
       "array([ 1, 11, 21, 31, 41, 51, 61, 71, 81, 91])"
      ]
     },
     "execution_count": 40,
     "metadata": {},
     "output_type": "execute_result"
    }
   ],
   "source": [
    "mp[:,0]#for first columns"
   ]
  },
  {
   "cell_type": "code",
   "execution_count": 42,
   "id": "8678bd97-bfaa-4315-a024-a105189784bf",
   "metadata": {},
   "outputs": [
    {
     "data": {
      "text/plain": [
       "array([ 1,  2,  3,  4,  5,  6,  7,  8,  9, 10])"
      ]
     },
     "execution_count": 42,
     "metadata": {},
     "output_type": "execute_result"
    }
   ],
   "source": [
    "mp[0,]#for first row"
   ]
  },
  {
   "cell_type": "code",
   "execution_count": 48,
   "id": "57fa7eb8-7c6f-42a3-9b8e-cc3cf5c0215c",
   "metadata": {},
   "outputs": [
    {
     "data": {
      "text/plain": [
       "array([[  1,   2,   3,   4,   5,   6,   7,   8,   9,  10],\n",
       "       [ 11,  12,  13,  14,  15,  16,  17,  18,  19,  20],\n",
       "       [ 21,  22,  23,  24,  25,  26,  27,  28,  29,  30],\n",
       "       [ 31,  32,  33,  34,  35,  36,  37,  38,  39,  40],\n",
       "       [ 41,  42,  43,  44,  45,  46,  47,  48,  49,  50],\n",
       "       [ 51,  52,  53,  54,  55,  56,  57,  58,  59,  60],\n",
       "       [ 61,  62,  63,  64,  65,  66,  67,  68,  69,  70],\n",
       "       [ 71,  72,  73,  74,  75,  76,  77,  78,  79,  80],\n",
       "       [ 81,  82,  83,  84,  85,  86,  87,  88,  89,  90],\n",
       "       [ 91,  92,  93,  94,  95,  96,  97,  98,  99, 100]])"
      ]
     },
     "execution_count": 48,
     "metadata": {},
     "output_type": "execute_result"
    }
   ],
   "source": [
    "mp[:]#mp[::], mp[:,:]"
   ]
  },
  {
   "cell_type": "code",
   "execution_count": 50,
   "id": "f48858c8-5384-4d19-8f4b-88f159d64fa2",
   "metadata": {},
   "outputs": [
    {
     "data": {
      "text/plain": [
       "dtype('int32')"
      ]
     },
     "execution_count": 50,
     "metadata": {},
     "output_type": "execute_result"
    }
   ],
   "source": [
    "mp.dtype"
   ]
  },
  {
   "cell_type": "code",
   "execution_count": 54,
   "id": "d77f771e-991b-4f74-9156-630405720ff3",
   "metadata": {},
   "outputs": [],
   "source": [
    "arr3 = np.arange(1,17).reshape(4,4)\n",
    "arr4 = np.arange(17,33).reshape(4,4)"
   ]
  },
  {
   "cell_type": "code",
   "execution_count": 60,
   "id": "eda30147-89c9-4082-81cf-b3b856dd414e",
   "metadata": {},
   "outputs": [
    {
     "data": {
      "text/plain": [
       "array([[ 1,  2,  3,  4],\n",
       "       [ 5,  6,  7,  8],\n",
       "       [ 9, 10, 11, 12],\n",
       "       [13, 14, 15, 16],\n",
       "       [17, 18, 19, 20],\n",
       "       [21, 22, 23, 24],\n",
       "       [25, 26, 27, 28],\n",
       "       [29, 30, 31, 32]])"
      ]
     },
     "execution_count": 60,
     "metadata": {},
     "output_type": "execute_result"
    }
   ],
   "source": [
    "#for concatinate \n",
    "np.concatenate((arr3,arr4)) #focus on braket it concatenate column wise\n"
   ]
  },
  {
   "cell_type": "code",
   "execution_count": 62,
   "id": "d3702561-0d44-41a9-b715-73c9b8e8bd28",
   "metadata": {},
   "outputs": [
    {
     "data": {
      "text/plain": [
       "array([[ 1,  2,  3,  4, 17, 18, 19, 20],\n",
       "       [ 5,  6,  7,  8, 21, 22, 23, 24],\n",
       "       [ 9, 10, 11, 12, 25, 26, 27, 28],\n",
       "       [13, 14, 15, 16, 29, 30, 31, 32]])"
      ]
     },
     "execution_count": 62,
     "metadata": {},
     "output_type": "execute_result"
    }
   ],
   "source": [
    "np.concatenate((arr3,arr4), axis  = 1) #do concatinate by row wise."
   ]
  },
  {
   "cell_type": "code",
   "execution_count": 66,
   "id": "febef03a-9cbb-42b1-a1d3-071c7dc70ef8",
   "metadata": {},
   "outputs": [
    {
     "data": {
      "text/plain": [
       "array([[1, 2, 3],\n",
       "       [4, 5, 6],\n",
       "       [7, 8, 9],\n",
       "       [1, 2, 3],\n",
       "       [4, 5, 6],\n",
       "       [7, 8, 9]])"
      ]
     },
     "execution_count": 66,
     "metadata": {},
     "output_type": "execute_result"
    }
   ],
   "source": [
    "np.vstack((arr1,arr2))#same for hstack."
   ]
  },
  {
   "cell_type": "code",
   "execution_count": 68,
   "id": "3c60e1bb-08fa-4320-9b65-255dc4bd056a",
   "metadata": {},
   "outputs": [
    {
     "data": {
      "text/plain": [
       "[array([[1, 2, 3, 4],\n",
       "        [5, 6, 7, 8]]),\n",
       " array([[ 9, 10, 11, 12],\n",
       "        [13, 14, 15, 16]])]"
      ]
     },
     "execution_count": 68,
     "metadata": {},
     "output_type": "execute_result"
    }
   ],
   "source": [
    "np.split(arr3,2)"
   ]
  },
  {
   "cell_type": "code",
   "execution_count": 70,
   "id": "483b8f22-7ef5-4d79-a24f-d8f808196741",
   "metadata": {},
   "outputs": [
    {
     "data": {
      "text/plain": [
       "1.2246467991473532e-16"
      ]
     },
     "execution_count": 70,
     "metadata": {},
     "output_type": "execute_result"
    }
   ],
   "source": [
    "np.sin(180)#this is in degree\n",
    "np.sin(180  *np.pi/180)#give the value in radian\n"
   ]
  },
  {
   "cell_type": "code",
   "execution_count": 71,
   "id": "6ec93b66-c68b-4e1d-a1d7-1f9e47a9fecb",
   "metadata": {},
   "outputs": [],
   "source": [
    "import random"
   ]
  },
  {
   "cell_type": "code",
   "execution_count": 73,
   "id": "5cf20dd2-d32a-4627-99c9-ada0ffa95999",
   "metadata": {},
   "outputs": [
    {
     "data": {
      "text/plain": [
       "array([0.21008318])"
      ]
     },
     "execution_count": 73,
     "metadata": {},
     "output_type": "execute_result"
    }
   ],
   "source": [
    "np.random.random(1)#give value between zero to one"
   ]
  },
  {
   "cell_type": "code",
   "execution_count": 75,
   "id": "0c713bd4-77a8-45c2-bb1c-adcc2577998c",
   "metadata": {},
   "outputs": [
    {
     "data": {
      "text/plain": [
       "array([[0.03225922, 0.53810193, 0.86427037],\n",
       "       [0.76696724, 0.68311196, 0.74499481],\n",
       "       [0.48103236, 0.81158937, 0.8288916 ]])"
      ]
     },
     "execution_count": 75,
     "metadata": {},
     "output_type": "execute_result"
    }
   ],
   "source": [
    "np.random.random((3,3))"
   ]
  },
  {
   "cell_type": "code",
   "execution_count": 78,
   "id": "044761dd-9eae-469f-9ca6-1f510d05c221",
   "metadata": {},
   "outputs": [
    {
     "data": {
      "text/plain": [
       "array([[3, 1, 3, 2],\n",
       "       [2, 1, 3, 2]])"
      ]
     },
     "execution_count": 78,
     "metadata": {},
     "output_type": "execute_result"
    }
   ],
   "source": [
    "np.random.randint(1,4,(2,4))#genate array by this size of this value."
   ]
  },
  {
   "cell_type": "code",
   "execution_count": 80,
   "id": "20dfcbb5-23dc-4e13-9f18-c49d8d7a8dd4",
   "metadata": {},
   "outputs": [
    {
     "data": {
      "text/plain": [
       "5"
      ]
     },
     "execution_count": 80,
     "metadata": {},
     "output_type": "execute_result"
    }
   ],
   "source": [
    "x = [2,4,5,3]\n",
    "np.random.choice(x)#choose random number."
   ]
  },
  {
   "cell_type": "code",
   "execution_count": 83,
   "id": "fcbc6cf4-3be0-4ef3-93bd-a8b61ff6f227",
   "metadata": {},
   "outputs": [],
   "source": [
    "na = \"My name is Ujjwal Mittal\"\n",
    "go = \"Im learn the python basics for practice\"\n"
   ]
  },
  {
   "cell_type": "code",
   "execution_count": 89,
   "id": "432a7123-a245-40a1-83fa-1b32a37c091f",
   "metadata": {},
   "outputs": [
    {
     "data": {
      "text/plain": [
       "array('######My name is Ujjwal Mittal#####', dtype='<U35')"
      ]
     },
     "execution_count": 89,
     "metadata": {},
     "output_type": "execute_result"
    }
   ],
   "source": [
    "np.char.add(na,go) #add 2 string\n",
    "np.char.lower(na)#same for upper.\n",
    "np.char.center(na,35, fillchar = \"#\")"
   ]
  },
  {
   "cell_type": "code",
   "execution_count": 90,
   "id": "449c3434-3c65-47b1-a516-71e239c4412a",
   "metadata": {},
   "outputs": [
    {
     "data": {
      "text/plain": [
       "array(list(['My', 'name', 'is', 'Ujjwal', 'Mittal']), dtype=object)"
      ]
     },
     "execution_count": 90,
     "metadata": {},
     "output_type": "execute_result"
    }
   ],
   "source": [
    "np.char.split(na)"
   ]
  },
  {
   "cell_type": "code",
   "execution_count": 91,
   "id": "0f9b50f7-8b20-4410-8116-93fe2a3ec868",
   "metadata": {},
   "outputs": [
    {
     "data": {
      "text/plain": [
       "array('Im had learnt the python basics for practice', dtype='<U44')"
      ]
     },
     "execution_count": 91,
     "metadata": {},
     "output_type": "execute_result"
    }
   ],
   "source": [
    "np.char.replace(go, \"learn\",\"had learnt\")"
   ]
  },
  {
   "cell_type": "code",
   "execution_count": 92,
   "id": "a7d79535-bfb9-47ff-bc66-b8cf9d469a92",
   "metadata": {},
   "outputs": [
    {
     "data": {
      "text/plain": [
       "array(11)"
      ]
     },
     "execution_count": 92,
     "metadata": {},
     "output_type": "execute_result"
    }
   ],
   "source": [
    "np.char.find(na,\"Ujjwal\")"
   ]
  },
  {
   "cell_type": "code",
   "execution_count": null,
   "id": "d34a6e7f-4a21-4d64-b2a3-ca84c00e4d8a",
   "metadata": {},
   "outputs": [],
   "source": []
  }
 ],
 "metadata": {
  "kernelspec": {
   "display_name": "Python 3 (ipykernel)",
   "language": "python",
   "name": "python3"
  },
  "language_info": {
   "codemirror_mode": {
    "name": "ipython",
    "version": 3
   },
   "file_extension": ".py",
   "mimetype": "text/x-python",
   "name": "python",
   "nbconvert_exporter": "python",
   "pygments_lexer": "ipython3",
   "version": "3.12.7"
  }
 },
 "nbformat": 4,
 "nbformat_minor": 5
}
