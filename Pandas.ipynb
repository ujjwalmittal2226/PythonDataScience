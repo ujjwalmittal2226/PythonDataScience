{
 "cells": [
  {
   "cell_type": "markdown",
   "id": "dbba77b6-cf1f-44cf-802f-79a2a29097c3",
   "metadata": {},
   "source": [
    "<B>PANDAS</B><BR> Pandas is powerful data analysis toolkit. read and writing data structures with different format. We able to handle misssing data atructure."
   ]
  },
  {
   "cell_type": "code",
   "execution_count": 2,
   "id": "2a047bfd-c8f0-4d9f-b616-1bc050cbf826",
   "metadata": {},
   "outputs": [],
   "source": [
    "import pandas as pd"
   ]
  },
  {
   "cell_type": "code",
   "execution_count": 3,
   "id": "ee55c6f3-bb88-4a47-a781-837e859ea671",
   "metadata": {},
   "outputs": [
    {
     "name": "stdout",
     "output_type": "stream",
     "text": [
      "0         1\n",
      "1         2\n",
      "2        -3\n",
      "3       4.5\n",
      "4    indian\n",
      "dtype: object\n"
     ]
    }
   ],
   "source": [
    "#Pandas Series is a One Dimensional indexed array. It is most similar to the NumPy array. pandas.Series is a method to create a series.\n",
    "#Series is similar to python list but series have additional functionality, methods, and operators, because of these series is advanced than a list.\n",
    "\n",
    "\n",
    "list_1 = [1, 2, -3, 4.5, 'indian']\n",
    "series1 = pd.Series(list_1)\n",
    "print(series1)"
   ]
  },
  {
   "cell_type": "code",
   "execution_count": 4,
   "id": "216409e3-0799-46ee-ba26-360cddd8f73b",
   "metadata": {},
   "outputs": [
    {
     "data": {
      "text/plain": [
       "'2.2.2'"
      ]
     },
     "execution_count": 4,
     "metadata": {},
     "output_type": "execute_result"
    }
   ],
   "source": [
    "pd.__version__"
   ]
  },
  {
   "cell_type": "code",
   "execution_count": 5,
   "id": "a645492d-8678-4565-9012-fbb6a99c18e1",
   "metadata": {},
   "outputs": [
    {
     "name": "stdout",
     "output_type": "stream",
     "text": [
      "0    1\n",
      "1    2\n",
      "2    3\n",
      "3    4\n",
      "4    5\n",
      "dtype: int64\n"
     ]
    }
   ],
   "source": [
    "series2 = pd.Series([1,2,3,4,5])\n",
    "print(series2)"
   ]
  },
  {
   "cell_type": "code",
   "execution_count": 6,
   "id": "677b6e1b-5459-46b3-96e6-e70ae7b97875",
   "metadata": {},
   "outputs": [
    {
     "name": "stdout",
     "output_type": "stream",
     "text": [
      "a    1.0\n",
      "b    2.0\n",
      "c    3.0\n",
      "d    4.0\n",
      "e    5.0\n",
      "dtype: float64\n"
     ]
    }
   ],
   "source": [
    "series2 = pd.Series([1,2,3,4,5], index = ['a', 'b', 'c', 'd', 'e'], dtype = float)\n",
    "print(series2)"
   ]
  },
  {
   "cell_type": "code",
   "execution_count": 7,
   "id": "978a4333-463e-4914-aec4-3b165753bcea",
   "metadata": {},
   "outputs": [
    {
     "name": "stdout",
     "output_type": "stream",
     "text": [
      "a    1\n",
      "b    2\n",
      "c    3\n",
      "dtype: int64\n"
     ]
    }
   ],
   "source": [
    "#create series by dictionary.\n",
    "s4_dict = pd.Series({'a':1, 'b':2, 'c':3})\n",
    "print(s4_dict)"
   ]
  },
  {
   "cell_type": "code",
   "execution_count": 8,
   "id": "1fa151f1-6ad6-499d-95cb-64f8fc6e97d3",
   "metadata": {},
   "outputs": [
    {
     "data": {
      "text/plain": [
       "a    1.0\n",
       "b    2.0\n",
       "c    3.0\n",
       "d    4.0\n",
       "dtype: float64"
      ]
     },
     "execution_count": 8,
     "metadata": {},
     "output_type": "execute_result"
    }
   ],
   "source": [
    "series2[0:4]"
   ]
  },
  {
   "cell_type": "code",
   "execution_count": 9,
   "id": "9a8e4cc8-19d2-459b-83af-454e75c0df4f",
   "metadata": {},
   "outputs": [
    {
     "data": {
      "text/plain": [
       "5.0"
      ]
     },
     "execution_count": 9,
     "metadata": {},
     "output_type": "execute_result"
    }
   ],
   "source": [
    "max(series2)"
   ]
  },
  {
   "cell_type": "code",
   "execution_count": 10,
   "id": "c07b431d-464f-4f67-840a-5fd83bdf8b59",
   "metadata": {},
   "outputs": [
    {
     "data": {
      "text/plain": [
       "d    4.0\n",
       "e    5.0\n",
       "dtype: float64"
      ]
     },
     "execution_count": 10,
     "metadata": {},
     "output_type": "execute_result"
    }
   ],
   "source": [
    "series2[series2>3] #Value in series greater than 3."
   ]
  },
  {
   "cell_type": "code",
   "execution_count": 11,
   "id": "c4d0774a-9e3b-4d91-8571-138321511013",
   "metadata": {},
   "outputs": [
    {
     "ename": "KeyError",
     "evalue": "'[4] not found in axis'",
     "output_type": "error",
     "traceback": [
      "\u001b[1;31m---------------------------------------------------------------------------\u001b[0m",
      "\u001b[1;31mKeyError\u001b[0m                                  Traceback (most recent call last)",
      "Cell \u001b[1;32mIn[11], line 1\u001b[0m\n\u001b[1;32m----> 1\u001b[0m series2\u001b[38;5;241m.\u001b[39mdrop(\u001b[38;5;241m4\u001b[39m)\n",
      "File \u001b[1;32m~\\anaconda3\\Lib\\site-packages\\pandas\\core\\series.py:5356\u001b[0m, in \u001b[0;36mSeries.drop\u001b[1;34m(self, labels, axis, index, columns, level, inplace, errors)\u001b[0m\n\u001b[0;32m   5259\u001b[0m \u001b[38;5;28;01mdef\u001b[39;00m \u001b[38;5;21mdrop\u001b[39m(\n\u001b[0;32m   5260\u001b[0m     \u001b[38;5;28mself\u001b[39m,\n\u001b[0;32m   5261\u001b[0m     labels: IndexLabel \u001b[38;5;241m|\u001b[39m \u001b[38;5;28;01mNone\u001b[39;00m \u001b[38;5;241m=\u001b[39m \u001b[38;5;28;01mNone\u001b[39;00m,\n\u001b[1;32m   (...)\u001b[0m\n\u001b[0;32m   5268\u001b[0m     errors: IgnoreRaise \u001b[38;5;241m=\u001b[39m \u001b[38;5;124m\"\u001b[39m\u001b[38;5;124mraise\u001b[39m\u001b[38;5;124m\"\u001b[39m,\n\u001b[0;32m   5269\u001b[0m ) \u001b[38;5;241m-\u001b[39m\u001b[38;5;241m>\u001b[39m Series \u001b[38;5;241m|\u001b[39m \u001b[38;5;28;01mNone\u001b[39;00m:\n\u001b[0;32m   5270\u001b[0m \u001b[38;5;250m    \u001b[39m\u001b[38;5;124;03m\"\"\"\u001b[39;00m\n\u001b[0;32m   5271\u001b[0m \u001b[38;5;124;03m    Return Series with specified index labels removed.\u001b[39;00m\n\u001b[0;32m   5272\u001b[0m \n\u001b[1;32m   (...)\u001b[0m\n\u001b[0;32m   5354\u001b[0m \u001b[38;5;124;03m    dtype: float64\u001b[39;00m\n\u001b[0;32m   5355\u001b[0m \u001b[38;5;124;03m    \"\"\"\u001b[39;00m\n\u001b[1;32m-> 5356\u001b[0m     \u001b[38;5;28;01mreturn\u001b[39;00m \u001b[38;5;28msuper\u001b[39m()\u001b[38;5;241m.\u001b[39mdrop(\n\u001b[0;32m   5357\u001b[0m         labels\u001b[38;5;241m=\u001b[39mlabels,\n\u001b[0;32m   5358\u001b[0m         axis\u001b[38;5;241m=\u001b[39maxis,\n\u001b[0;32m   5359\u001b[0m         index\u001b[38;5;241m=\u001b[39mindex,\n\u001b[0;32m   5360\u001b[0m         columns\u001b[38;5;241m=\u001b[39mcolumns,\n\u001b[0;32m   5361\u001b[0m         level\u001b[38;5;241m=\u001b[39mlevel,\n\u001b[0;32m   5362\u001b[0m         inplace\u001b[38;5;241m=\u001b[39minplace,\n\u001b[0;32m   5363\u001b[0m         errors\u001b[38;5;241m=\u001b[39merrors,\n\u001b[0;32m   5364\u001b[0m     )\n",
      "File \u001b[1;32m~\\anaconda3\\Lib\\site-packages\\pandas\\core\\generic.py:4788\u001b[0m, in \u001b[0;36mNDFrame.drop\u001b[1;34m(self, labels, axis, index, columns, level, inplace, errors)\u001b[0m\n\u001b[0;32m   4786\u001b[0m \u001b[38;5;28;01mfor\u001b[39;00m axis, labels \u001b[38;5;129;01min\u001b[39;00m axes\u001b[38;5;241m.\u001b[39mitems():\n\u001b[0;32m   4787\u001b[0m     \u001b[38;5;28;01mif\u001b[39;00m labels \u001b[38;5;129;01mis\u001b[39;00m \u001b[38;5;129;01mnot\u001b[39;00m \u001b[38;5;28;01mNone\u001b[39;00m:\n\u001b[1;32m-> 4788\u001b[0m         obj \u001b[38;5;241m=\u001b[39m obj\u001b[38;5;241m.\u001b[39m_drop_axis(labels, axis, level\u001b[38;5;241m=\u001b[39mlevel, errors\u001b[38;5;241m=\u001b[39merrors)\n\u001b[0;32m   4790\u001b[0m \u001b[38;5;28;01mif\u001b[39;00m inplace:\n\u001b[0;32m   4791\u001b[0m     \u001b[38;5;28mself\u001b[39m\u001b[38;5;241m.\u001b[39m_update_inplace(obj)\n",
      "File \u001b[1;32m~\\anaconda3\\Lib\\site-packages\\pandas\\core\\generic.py:4830\u001b[0m, in \u001b[0;36mNDFrame._drop_axis\u001b[1;34m(self, labels, axis, level, errors, only_slice)\u001b[0m\n\u001b[0;32m   4828\u001b[0m         new_axis \u001b[38;5;241m=\u001b[39m axis\u001b[38;5;241m.\u001b[39mdrop(labels, level\u001b[38;5;241m=\u001b[39mlevel, errors\u001b[38;5;241m=\u001b[39merrors)\n\u001b[0;32m   4829\u001b[0m     \u001b[38;5;28;01melse\u001b[39;00m:\n\u001b[1;32m-> 4830\u001b[0m         new_axis \u001b[38;5;241m=\u001b[39m axis\u001b[38;5;241m.\u001b[39mdrop(labels, errors\u001b[38;5;241m=\u001b[39merrors)\n\u001b[0;32m   4831\u001b[0m     indexer \u001b[38;5;241m=\u001b[39m axis\u001b[38;5;241m.\u001b[39mget_indexer(new_axis)\n\u001b[0;32m   4833\u001b[0m \u001b[38;5;66;03m# Case for non-unique axis\u001b[39;00m\n\u001b[0;32m   4834\u001b[0m \u001b[38;5;28;01melse\u001b[39;00m:\n",
      "File \u001b[1;32m~\\anaconda3\\Lib\\site-packages\\pandas\\core\\indexes\\base.py:7070\u001b[0m, in \u001b[0;36mIndex.drop\u001b[1;34m(self, labels, errors)\u001b[0m\n\u001b[0;32m   7068\u001b[0m \u001b[38;5;28;01mif\u001b[39;00m mask\u001b[38;5;241m.\u001b[39many():\n\u001b[0;32m   7069\u001b[0m     \u001b[38;5;28;01mif\u001b[39;00m errors \u001b[38;5;241m!=\u001b[39m \u001b[38;5;124m\"\u001b[39m\u001b[38;5;124mignore\u001b[39m\u001b[38;5;124m\"\u001b[39m:\n\u001b[1;32m-> 7070\u001b[0m         \u001b[38;5;28;01mraise\u001b[39;00m \u001b[38;5;167;01mKeyError\u001b[39;00m(\u001b[38;5;124mf\u001b[39m\u001b[38;5;124m\"\u001b[39m\u001b[38;5;132;01m{\u001b[39;00mlabels[mask]\u001b[38;5;241m.\u001b[39mtolist()\u001b[38;5;132;01m}\u001b[39;00m\u001b[38;5;124m not found in axis\u001b[39m\u001b[38;5;124m\"\u001b[39m)\n\u001b[0;32m   7071\u001b[0m     indexer \u001b[38;5;241m=\u001b[39m indexer[\u001b[38;5;241m~\u001b[39mmask]\n\u001b[0;32m   7072\u001b[0m \u001b[38;5;28;01mreturn\u001b[39;00m \u001b[38;5;28mself\u001b[39m\u001b[38;5;241m.\u001b[39mdelete(indexer)\n",
      "\u001b[1;31mKeyError\u001b[0m: '[4] not found in axis'"
     ]
    }
   ],
   "source": [
    "series2.drop(4) #Remove 4th index value."
   ]
  },
  {
   "cell_type": "code",
   "execution_count": null,
   "id": "0ce86c15-f1c2-4504-9c1a-abafcf4ffd54",
   "metadata": {},
   "outputs": [],
   "source": [
    "series2"
   ]
  },
  {
   "cell_type": "code",
   "execution_count": null,
   "id": "7510746b-cd59-4f9e-91c4-07ff6f791820",
   "metadata": {},
   "outputs": [],
   "source": [
    "#Python data frame is two-dimensional, size-mutable, potentially heterogeneous tabular data structure with labeled axes(rows & columns).\n",
    "#Create dataframe\n",
    "lst = ['a', 'b', 'c']   # First creating a list.\n",
    "df1 = pd.DataFrame(lst)    # Creating dataframe from above list\n",
    "print(df1)"
   ]
  },
  {
   "cell_type": "code",
   "execution_count": null,
   "id": "ff2eddc4-bf23-4064-8f1c-f7fdfb5e87f4",
   "metadata": {},
   "outputs": [],
   "source": [
    "ls_of_ls = [[1,2,3], [2,3,4], [4,5,6]]   # Creating list of list\n",
    "df2 = pd.DataFrame(ls_of_ls)   # Creating dataframe form above list of list\n",
    "df2"
   ]
  },
  {
   "cell_type": "code",
   "execution_count": null,
   "id": "e4a97a49-4f09-4f08-a60c-33f6e5695461",
   "metadata": {},
   "outputs": [],
   "source": [
    "#A CSV is a comma separated values file which allows to store data in tabular format. That data includes numbers and text in plain text form.\n",
    "#CSV is an extension of any file or spreadsheet . csv stand for comma seperatd value.\n",
    "import pandas as pd\n",
    "df = pd.read_csv(r'C:\\Users\\Dell\\Downloads\\Top-10-IT-Companies-in-India.csv',skiprows = 1 )#or write skiprows = [0]\n",
    "df"
   ]
  },
  {
   "cell_type": "code",
   "execution_count": null,
   "id": "f7585fcb-9dcf-4863-a793-d318b41fca4c",
   "metadata": {},
   "outputs": [],
   "source": [
    "df.columns #know the colmns."
   ]
  },
  {
   "cell_type": "code",
   "execution_count": null,
   "id": "65a8e63a-568d-47ea-b9d1-0218282ccc06",
   "metadata": {},
   "outputs": [],
   "source": [
    "import os"
   ]
  },
  {
   "cell_type": "code",
   "execution_count": null,
   "id": "fc3c4800-b5cc-44c1-adfc-62ca726b7320",
   "metadata": {},
   "outputs": [],
   "source": [
    "print(os.getcwd()) #path in which you are work."
   ]
  },
  {
   "cell_type": "code",
   "execution_count": null,
   "id": "77dbe323-7f8f-4457-91ed-484d2d680df0",
   "metadata": {},
   "outputs": [],
   "source": [
    "df = pd.read_csv(r'C:\\Users\\Dell\\Downloads\\Top-10-IT-Companies-in-India.csv',header =1  )#provided header"
   ]
  },
  {
   "cell_type": "code",
   "execution_count": null,
   "id": "b44e1611-7a62-4de6-8083-93f1d23e03e5",
   "metadata": {},
   "outputs": [],
   "source": [
    "df"
   ]
  },
  {
   "cell_type": "code",
   "execution_count": null,
   "id": "879de876-59b8-4224-ad1f-1cb89530706c",
   "metadata": {},
   "outputs": [],
   "source": [
    "df = pd.read_csv(r'C:\\Users\\Dell\\Downloads\\Top-10-IT-Companies-in-India.csv',nrows = 9)#for getting one rows.\n",
    "df"
   ]
  },
  {
   "cell_type": "code",
   "execution_count": null,
   "id": "58e8bc50-aed6-4644-86b9-7f892188ee16",
   "metadata": {},
   "outputs": [],
   "source": [
    "df.head() #by default return the top 5 rows."
   ]
  },
  {
   "cell_type": "code",
   "execution_count": null,
   "id": "284ba3af-a920-469b-8861-2b73e6ccea94",
   "metadata": {},
   "outputs": [],
   "source": [
    "df.tail(7)"
   ]
  },
  {
   "cell_type": "code",
   "execution_count": 31,
   "id": "e7ac6354-c79a-4f94-a2c5-23ede4965a99",
   "metadata": {},
   "outputs": [
    {
     "data": {
      "text/html": [
       "<div>\n",
       "<style scoped>\n",
       "    .dataframe tbody tr th:only-of-type {\n",
       "        vertical-align: middle;\n",
       "    }\n",
       "\n",
       "    .dataframe tbody tr th {\n",
       "        vertical-align: top;\n",
       "    }\n",
       "\n",
       "    .dataframe thead th {\n",
       "        text-align: right;\n",
       "    }\n",
       "</style>\n",
       "<table border=\"1\" class=\"dataframe\">\n",
       "  <thead>\n",
       "    <tr style=\"text-align: right;\">\n",
       "      <th></th>\n",
       "      <th>Top 10 IT Companies in India</th>\n",
       "    </tr>\n",
       "  </thead>\n",
       "  <tbody>\n",
       "    <tr>\n",
       "      <th>0</th>\n",
       "      <td>TCS</td>\n",
       "    </tr>\n",
       "    <tr>\n",
       "      <th>1</th>\n",
       "      <td>Infosys</td>\n",
       "    </tr>\n",
       "    <tr>\n",
       "      <th>2</th>\n",
       "      <td>Tech Mahindra</td>\n",
       "    </tr>\n",
       "    <tr>\n",
       "      <th>3</th>\n",
       "      <td>Wipro</td>\n",
       "    </tr>\n",
       "    <tr>\n",
       "      <th>4</th>\n",
       "      <td>HCL Technologies</td>\n",
       "    </tr>\n",
       "    <tr>\n",
       "      <th>5</th>\n",
       "      <td>L&amp;T Infotech</td>\n",
       "    </tr>\n",
       "    <tr>\n",
       "      <th>6</th>\n",
       "      <td>Mindtree</td>\n",
       "    </tr>\n",
       "    <tr>\n",
       "      <th>7</th>\n",
       "      <td>Mphasis</td>\n",
       "    </tr>\n",
       "    <tr>\n",
       "      <th>8</th>\n",
       "      <td>Oracle Financial Services</td>\n",
       "    </tr>\n",
       "    <tr>\n",
       "      <th>9</th>\n",
       "      <td>Rotla India</td>\n",
       "    </tr>\n",
       "  </tbody>\n",
       "</table>\n",
       "</div>"
      ],
      "text/plain": [
       "  Top 10 IT Companies in India\n",
       "0                          TCS\n",
       "1                      Infosys\n",
       "2                Tech Mahindra\n",
       "3                        Wipro\n",
       "4             HCL Technologies\n",
       "5                 L&T Infotech\n",
       "6                     Mindtree\n",
       "7                      Mphasis\n",
       "8    Oracle Financial Services\n",
       "9                  Rotla India"
      ]
     },
     "execution_count": 31,
     "metadata": {},
     "output_type": "execute_result"
    }
   ],
   "source": [
    "df = pd.read_csv(r'C:\\Users\\Dell\\Downloads\\Top-10-IT-Companies-in-India.csv')#,dtype = {'id': 'float64'})#for change the datatype.\n",
    "df"
   ]
  },
  {
   "cell_type": "markdown",
   "id": "4e4ccf44-ff0a-4e56-8b8b-2b408ce2bd8d",
   "metadata": {},
   "source": [
    "##Handling the Missing Values."
   ]
  },
  {
   "cell_type": "code",
   "execution_count": null,
   "id": "a0d6aaea-f28f-4b0a-ac40-0c00d4abca24",
   "metadata": {},
   "outputs": [],
   "source": [
    "df = pd.read_csv(r'C:\\Users\\Dell\\Downloads\\Top-10-IT-Companies-in-India.csv')#,na_values = 'not available'#for check not available value.\n",
    "df"
   ]
  },
  {
   "cell_type": "code",
   "execution_count": null,
   "id": "2866bd5f-27c5-4f40-9d19-e87510d169de",
   "metadata": {},
   "outputs": [],
   "source": [
    "df.isnull() #check the null value "
   ]
  },
  {
   "cell_type": "code",
   "execution_count": null,
   "id": "68f7551d-bfca-4dde-a948-8398116f8549",
   "metadata": {},
   "outputs": [],
   "source": [
    "df.isnull().sum() #check total null value column wise.\n"
   ]
  },
  {
   "cell_type": "code",
   "execution_count": null,
   "id": "276887de-91dd-4f8c-8ee0-07f9ab72417f",
   "metadata": {},
   "outputs": [],
   "source": [
    "df.notnull().sum() #Check the not null values."
   ]
  },
  {
   "cell_type": "code",
   "execution_count": null,
   "id": "66df0a92-14fc-4f2d-84ed-1221a2f0758b",
   "metadata": {},
   "outputs": [],
   "source": [
    "df.dropna()#remove that row which consist null values. if you pass axis =1 remove nul value column."
   ]
  },
  {
   "cell_type": "code",
   "execution_count": null,
   "id": "e5bb8bd5-14c4-4962-aa18-b51158447ddc",
   "metadata": {},
   "outputs": [],
   "source": [
    "df.dropna(inplace = True)#It help to droping the nul value and update it.\n",
    "df"
   ]
  },
  {
   "cell_type": "code",
   "execution_count": null,
   "id": "660f17de-401c-40ba-9dc5-055e8eedb575",
   "metadata": {},
   "outputs": [],
   "source": [
    "df.fillna(0)#fill zero  where null value present\n",
    "df.fillna({'Name': 'none', 'Profit' : 0})#fill none in name column where null value are present."
   ]
  },
  {
   "cell_type": "code",
   "execution_count": null,
   "id": "aacc7eb7-2596-4477-90fb-3f2eae170b5f",
   "metadata": {},
   "outputs": [],
   "source": [
    "#df.fillna(method = 'ffill', axis = 0)#fill previous value where null value present row wise becz axis  =0"
   ]
  },
  {
   "cell_type": "code",
   "execution_count": null,
   "id": "dcdd5f00-f588-451c-9c2a-19d7474fb07f",
   "metadata": {},
   "outputs": [],
   "source": [
    "df.replace(to_replace = 'TCS' , value  = 'Finan') #replace tcs value into finan."
   ]
  },
  {
   "cell_type": "code",
   "execution_count": null,
   "id": "b6c0a546-f11d-412f-8a07-a3cbea091245",
   "metadata": {},
   "outputs": [],
   "source": [
    "df.replace(2,12)"
   ]
  },
  {
   "cell_type": "code",
   "execution_count": null,
   "id": "4ef2f54d-f1f6-45a9-86d5-d169caa65e7f",
   "metadata": {},
   "outputs": [],
   "source": []
  },
  {
   "cell_type": "code",
   "execution_count": null,
   "id": "46173375-c756-4ca0-bff6-bef91ccb183a",
   "metadata": {},
   "outputs": [],
   "source": [
    "#interpolate funcn is used to fill nan vales."
   ]
  },
  {
   "cell_type": "code",
   "execution_count": null,
   "id": "f3428b1e-dc46-4db5-8b7b-443ae408847e",
   "metadata": {},
   "outputs": [],
   "source": [
    "df.interpolate() #guess and fill te value i the missing values.."
   ]
  },
  {
   "cell_type": "code",
   "execution_count": null,
   "id": "64d749a2-bbc4-44d1-87a1-bc399e98d082",
   "metadata": {},
   "outputs": [],
   "source": [
    "df.loc[[0,1]] #return 0 an 1 row."
   ]
  },
  {
   "cell_type": "code",
   "execution_count": null,
   "id": "857e4bda-bc7b-49b1-ac0c-91a885fc3ef9",
   "metadata": {},
   "outputs": [],
   "source": [
    "#df.loc[[df['Class']<11] #return Class column value less than 11."
   ]
  },
  {
   "cell_type": "code",
   "execution_count": null,
   "id": "4ed83009-f7fe-49fc-a167-f56b26ed553e",
   "metadata": {},
   "outputs": [],
   "source": [
    "#iloc  - integer locztion - based indexing. loc ma acess karte ha by the help of labels.\n",
    "# Iloc is used  accces colmn by number "
   ]
  },
  {
   "cell_type": "code",
   "execution_count": 29,
   "id": "dcda9432-ddcb-45da-8b6b-da8f68ea9e75",
   "metadata": {},
   "outputs": [
    {
     "ename": "NameError",
     "evalue": "name 'df' is not defined",
     "output_type": "error",
     "traceback": [
      "\u001b[1;31m---------------------------------------------------------------------------\u001b[0m",
      "\u001b[1;31mNameError\u001b[0m                                 Traceback (most recent call last)",
      "Cell \u001b[1;32mIn[29], line 1\u001b[0m\n\u001b[1;32m----> 1\u001b[0m df\u001b[38;5;241m.\u001b[39miloc[[\u001b[38;5;241m1\u001b[39m]]\n",
      "\u001b[1;31mNameError\u001b[0m: name 'df' is not defined"
     ]
    }
   ],
   "source": [
    "df.iloc[[1]] #aces the element"
   ]
  },
  {
   "cell_type": "code",
   "execution_count": null,
   "id": "d1b56aab-2e4d-48a1-9f37-76e9d50b6b7c",
   "metadata": {},
   "outputs": [],
   "source": [
    "#groupby is used to split the data into group based into some criteria.\n",
    "#any groupby operation involve following operations -  split the object, apply a result,  "
   ]
  },
  {
   "cell_type": "code",
   "execution_count": 37,
   "id": "6a4d6fc1-126f-4e5e-8a84-31bd121829a0",
   "metadata": {},
   "outputs": [],
   "source": [
    "#Selecting a group\n",
    " \n",
    "# A single group can be selected using get_group():\n",
    " \n",
    "#gr3 = df.groupby('Class').get_group(10)\n",
    "#It select the Class from the dataframe where classs value s 10."
   ]
  },
  {
   "cell_type": "code",
   "execution_count": 39,
   "id": "944b3348-7222-416a-802f-102cd5246070",
   "metadata": {},
   "outputs": [],
   "source": [
    "# Applying a function into group\n",
    "#gr1.sum()"
   ]
  },
  {
   "cell_type": "code",
   "execution_count": 41,
   "id": "0f0f337b-ca49-4c62-ae28-fbd63243faef",
   "metadata": {},
   "outputs": [],
   "source": [
    "#df1.append(df2, ignore_index = True) add df2 into df1."
   ]
  },
  {
   "cell_type": "code",
   "execution_count": 43,
   "id": "792bf15e-ef36-4dc3-a3f9-32c20c440355",
   "metadata": {},
   "outputs": [],
   "source": [
    "#pd.merge(df1,df2,on = 'ID', how = 'inner') on consist common olumn so we're abe to merge."
   ]
  },
  {
   "cell_type": "code",
   "execution_count": 47,
   "id": "3e070173-c35e-404f-839b-f28bdc72ca7f",
   "metadata": {},
   "outputs": [
    {
     "data": {
      "text/html": [
       "<div>\n",
       "<style scoped>\n",
       "    .dataframe tbody tr th:only-of-type {\n",
       "        vertical-align: middle;\n",
       "    }\n",
       "\n",
       "    .dataframe tbody tr th {\n",
       "        vertical-align: top;\n",
       "    }\n",
       "\n",
       "    .dataframe thead tr th {\n",
       "        text-align: left;\n",
       "    }\n",
       "</style>\n",
       "<table border=\"1\" class=\"dataframe\">\n",
       "  <thead>\n",
       "    <tr>\n",
       "      <th></th>\n",
       "      <th colspan=\"3\" halign=\"left\">First df</th>\n",
       "      <th colspan=\"3\" halign=\"left\">Second df</th>\n",
       "    </tr>\n",
       "    <tr>\n",
       "      <th></th>\n",
       "      <th>ID</th>\n",
       "      <th>Name</th>\n",
       "      <th>Class</th>\n",
       "      <th>ID</th>\n",
       "      <th>Name</th>\n",
       "      <th>Class</th>\n",
       "    </tr>\n",
       "  </thead>\n",
       "  <tbody>\n",
       "    <tr>\n",
       "      <th>0</th>\n",
       "      <td>1</td>\n",
       "      <td>A</td>\n",
       "      <td>5</td>\n",
       "      <td>5</td>\n",
       "      <td>E</td>\n",
       "      <td>9</td>\n",
       "    </tr>\n",
       "    <tr>\n",
       "      <th>1</th>\n",
       "      <td>2</td>\n",
       "      <td>B</td>\n",
       "      <td>6</td>\n",
       "      <td>6</td>\n",
       "      <td>F</td>\n",
       "      <td>10</td>\n",
       "    </tr>\n",
       "    <tr>\n",
       "      <th>2</th>\n",
       "      <td>3</td>\n",
       "      <td>C</td>\n",
       "      <td>7</td>\n",
       "      <td>7</td>\n",
       "      <td>G</td>\n",
       "      <td>11</td>\n",
       "    </tr>\n",
       "    <tr>\n",
       "      <th>3</th>\n",
       "      <td>4</td>\n",
       "      <td>D</td>\n",
       "      <td>8</td>\n",
       "      <td>8</td>\n",
       "      <td>H</td>\n",
       "      <td>12</td>\n",
       "    </tr>\n",
       "  </tbody>\n",
       "</table>\n",
       "</div>"
      ],
      "text/plain": [
       "  First df            Second df           \n",
       "        ID Name Class        ID Name Class\n",
       "0        1    A     5         5    E     9\n",
       "1        2    B     6         6    F    10\n",
       "2        3    C     7         7    G    11\n",
       "3        4    D     8         8    H    12"
      ]
     },
     "execution_count": 47,
     "metadata": {},
     "output_type": "execute_result"
    }
   ],
   "source": [
    "df1 = pd.DataFrame({'ID': [1,2,3,4],\n",
    "                  'Name': ['A', 'B', 'C','D'],\n",
    "                  'Class': [5,6,7,8]})\n",
    "df2 = pd.DataFrame({'ID': [5,6,7,8],\n",
    "                  'Name': ['E', 'F', 'G', 'H'],\n",
    "                  'Class': [9,10,11,12]})\n",
    "\t\n",
    "pd.concat([df1, df2], axis = 1,  keys = ['First df','Second df'])"
   ]
  },
  {
   "cell_type": "code",
   "execution_count": null,
   "id": "fe75dad2-2649-4269-9273-8b35d72b47e1",
   "metadata": {},
   "outputs": [],
   "source": []
  }
 ],
 "metadata": {
  "kernelspec": {
   "display_name": "Python 3 (ipykernel)",
   "language": "python",
   "name": "python3"
  },
  "language_info": {
   "codemirror_mode": {
    "name": "ipython",
    "version": 3
   },
   "file_extension": ".py",
   "mimetype": "text/x-python",
   "name": "python",
   "nbconvert_exporter": "python",
   "pygments_lexer": "ipython3",
   "version": "3.12.7"
  }
 },
 "nbformat": 4,
 "nbformat_minor": 5
}
